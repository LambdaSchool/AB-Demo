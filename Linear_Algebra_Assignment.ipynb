{
  "nbformat": 4,
  "nbformat_minor": 0,
  "metadata": {
    "colab": {
      "name": "Copy of Linear Algebra Assignment.ipynb",
      "version": "0.3.2",
      "provenance": [],
      "collapsed_sections": [],
      "include_colab_link": true
    },
    "kernelspec": {
      "name": "python3",
      "display_name": "Python 3"
    }
  },
  "cells": [
    {
      "cell_type": "markdown",
      "metadata": {
        "id": "view-in-github",
        "colab_type": "text"
      },
      "source": [
        "<a href=\"https://colab.research.google.com/github/invegat/AB-Demo/blob/master/Linear_Algebra_Assignment.ipynb\" target=\"_parent\"><img src=\"https://colab.research.google.com/assets/colab-badge.svg\" alt=\"Open In Colab\"/></a>"
      ]
    },
    {
      "metadata": {
        "id": "yXA3GwWhY9KL",
        "colab_type": "text"
      },
      "cell_type": "markdown",
      "source": [
        "# Part 1 - Scalars and Vectors\n",
        "\n",
        "For the questions below it is not sufficient to simply provide answer to the questions, but you must solve the problems and show your work using python (the NumPy library will help a lot!) Translate the vectors and matrices into their appropriate python  representations and use numpy or functions that you write yourself to demonstrate the result or property. "
      ]
    },
    {
      "metadata": {
        "id": "oNOTv43_Zi9L",
        "colab_type": "text"
      },
      "cell_type": "markdown",
      "source": [
        "## 1.1 Create a two-dimensional vector and plot it on a graph"
      ]
    },
    {
      "metadata": {
        "id": "YC45E8Cg49X5",
        "colab_type": "code",
        "outputId": "a590c5eb-5c4b-4176-c276-704c84673f75",
        "colab": {
          "base_uri": "https://localhost:8080/",
          "height": 355
        }
      },
      "cell_type": "code",
      "source": [
        "!pip install -U matplotlib"
      ],
      "execution_count": 0,
      "outputs": [
        {
          "output_type": "stream",
          "text": [
            "Collecting matplotlib\n",
            "\u001b[?25l  Downloading https://files.pythonhosted.org/packages/71/07/16d781df15be30df4acfd536c479268f1208b2dfbc91e9ca5d92c9caf673/matplotlib-3.0.2-cp36-cp36m-manylinux1_x86_64.whl (12.9MB)\n",
            "\u001b[K    100% |████████████████████████████████| 12.9MB 2.8MB/s \n",
            "\u001b[?25hRequirement already satisfied, skipping upgrade: python-dateutil>=2.1 in /usr/local/lib/python3.6/dist-packages (from matplotlib) (2.5.3)\n",
            "Collecting kiwisolver>=1.0.1 (from matplotlib)\n",
            "\u001b[?25l  Downloading https://files.pythonhosted.org/packages/69/a7/88719d132b18300b4369fbffa741841cfd36d1e637e1990f27929945b538/kiwisolver-1.0.1-cp36-cp36m-manylinux1_x86_64.whl (949kB)\n",
            "\u001b[K    100% |████████████████████████████████| 952kB 19.7MB/s \n",
            "\u001b[?25hRequirement already satisfied, skipping upgrade: numpy>=1.10.0 in /usr/local/lib/python3.6/dist-packages (from matplotlib) (1.14.6)\n",
            "Requirement already satisfied, skipping upgrade: pyparsing!=2.0.4,!=2.1.2,!=2.1.6,>=2.0.1 in /usr/local/lib/python3.6/dist-packages (from matplotlib) (2.3.0)\n",
            "Requirement already satisfied, skipping upgrade: cycler>=0.10 in /usr/local/lib/python3.6/dist-packages (from matplotlib) (0.10.0)\n",
            "Requirement already satisfied, skipping upgrade: six>=1.5 in /usr/local/lib/python3.6/dist-packages (from python-dateutil>=2.1->matplotlib) (1.11.0)\n",
            "Requirement already satisfied, skipping upgrade: setuptools in /usr/local/lib/python3.6/dist-packages (from kiwisolver>=1.0.1->matplotlib) (40.6.3)\n",
            "\u001b[31myellowbrick 0.9 has requirement matplotlib<3.0,>=1.5.1, but you'll have matplotlib 3.0.2 which is incompatible.\u001b[0m\n",
            "Installing collected packages: kiwisolver, matplotlib\n",
            "  Found existing installation: matplotlib 2.1.2\n",
            "    Uninstalling matplotlib-2.1.2:\n",
            "      Successfully uninstalled matplotlib-2.1.2\n",
            "Successfully installed kiwisolver-1.0.1 matplotlib-3.0.2\n"
          ],
          "name": "stdout"
        }
      ]
    },
    {
      "metadata": {
        "id": "AcoEToTX5KDb",
        "colab_type": "code",
        "outputId": "29aef281-d0a4-4d26-9de0-10674df48ddd",
        "colab": {
          "base_uri": "https://localhost:8080/",
          "height": 34
        }
      },
      "cell_type": "code",
      "source": [
        "%matplotlib inline\n",
        "import matplotlib\n",
        "matplotlib.__version__"
      ],
      "execution_count": 2,
      "outputs": [
        {
          "output_type": "execute_result",
          "data": {
            "text/plain": [
              "'3.0.2'"
            ]
          },
          "metadata": {
            "tags": []
          },
          "execution_count": 2
        }
      ]
    },
    {
      "metadata": {
        "id": "bxXp4Dgg5cn7",
        "colab_type": "code",
        "outputId": "ef4cfcb8-89d3-48b1-cda7-30443c738859",
        "colab": {
          "base_uri": "https://localhost:8080/",
          "height": 378
        }
      },
      "cell_type": "code",
      "source": [
        "import matplotlib.pyplot as plt\n",
        "import numpy as np\n",
        "fig, ax = plt.subplots(figsize=(6, 6))\n",
        "a = np.matrix('1 2; 3 4') \n",
        "plt.arrow(a[0,0], a[0,1], a[1,0], a[1,1], length_includes_head=True, width=0.1)\n",
        "plt.xticks(np.arange(0,8))\n",
        "plt.yticks(np.arange(0,8))\n",
        "plt.show()\n",
        "a11 = a"
      ],
      "execution_count": 3,
      "outputs": [
        {
          "output_type": "display_data",
          "data": {
            "image/png": "[encoded data removed]",
            "text/plain": [
              "<Figure size 432x432 with 1 Axes>"
            ]
          },
          "metadata": {
            "tags": []
          }
        }
      ]
    },
    {
      "metadata": {
        "id": "unKFT619lk3e",
        "colab_type": "text"
      },
      "cell_type": "markdown",
      "source": [
        "## 1.2 Create a three-dimensional vecor and plot it on a graph"
      ]
    },
    {
      "metadata": {
        "id": "r0rt-N3-E9OL",
        "colab_type": "code",
        "outputId": "7c1dd224-d603-4231-87d4-9eb5611a9707",
        "colab": {
          "base_uri": "https://localhost:8080/",
          "height": 248
        }
      },
      "cell_type": "code",
      "source": [
        "from mpl_toolkits.mplot3d import Axes3D\n",
        "a = [1, 2, 3]\n",
        "fig = plt.figure()\n",
        "ax = fig.add_subplot(111, projection='3d')\n",
        "ax.quiver(0,0,0,1,2,3 )\n",
        "ax.set_xlim([-1, 1.5])\n",
        "ax.set_ylim([-1, 2.5])\n",
        "ax.set_zlim([-1, 3.5])\n",
        "plt.show()"
      ],
      "execution_count": 4,
      "outputs": [
        {
          "output_type": "display_data",
          "data": {
            "image/png": "[encoded data removed]",
            "text/plain": [
              "<Figure size 432x288 with 1 Axes>"
            ]
          },
          "metadata": {
            "tags": []
          }
        }
      ]
    },
    {
      "metadata": {
        "id": "b7qFxbKxZmI2",
        "colab_type": "text"
      },
      "cell_type": "markdown",
      "source": [
        "## 1.3 Scale the vectors you created in 1.1 by $5$, $\\pi$, and $-e$ and plot all four vectors (original + 3 scaled vectors) on a graph. What do you notice about these vectors? "
      ]
    },
    {
      "metadata": {
        "id": "3qpwDlzXkVf5",
        "colab_type": "code",
        "outputId": "f5d993a2-fccc-4043-e0d0-5ea915766360",
        "colab": {
          "base_uri": "https://localhost:8080/",
          "height": 269
        }
      },
      "cell_type": "code",
      "source": [
        "import numpy as np\n",
        "import matplotlib.pyplot as plt\n",
        "base = a11\n",
        "M = np.array([base, base * 5, base * np.pi, base * -np.e])\n",
        "\n",
        "lines = M.shape[0]\n",
        "\n",
        "ax = plt.gca()\n",
        "\n",
        "colors = ['r', 'g', 'b', 'y']\n",
        "widths = [4,4,2,2]\n",
        "arrows = []\n",
        "for i in range(0,lines):\n",
        "    a = M[i]\n",
        "    arrow = ax.arrow(a[0,0], a[0,1], a[1,0] - a[0,0], a[1,1] - a[0,1], color=colors[i],\n",
        "              linewidth=widths[i], length_includes_head=True, width=0.1)\n",
        "    arrows.append(arrow)\n",
        "    \n",
        "\n",
        "plt.plot(0,0,'ok') #<-- plot a black point at the origin\n",
        "plt.axis('equal')  #<-- set the axes to the same scale\n",
        "plt.xlim([-40,51]) #<-- set the x axis limits\n",
        "plt.ylim([-60,81]) #<-- set the y axis limits\n",
        "ax.legend((arrows),(['*1','*5', '*pi', '*-e'])) #<-- give a legend\n",
        "plt.grid(b=True, which='major') #<-- plot grid lines\n",
        "plt.show()\n",
        "# all the vectors are parallel "
      ],
      "execution_count": 5,
      "outputs": [
        {
          "output_type": "display_data",
          "data": {
            "image/png": "[encoded data removed]",
            "text/plain": [
              "<Figure size 432x288 with 1 Axes>"
            ]
          },
          "metadata": {
            "tags": []
          }
        }
      ]
    },
    {
      "metadata": {
        "id": "wrgqa6sWimbH",
        "colab_type": "text"
      },
      "cell_type": "markdown",
      "source": [
        "## 1.4 Graph vectors $\\vec{a}$ and $\\vec{b}$ and plot them on a graph\n",
        "\n",
        "\\begin{align}\n",
        "\\vec{a} = \\begin{bmatrix} 5 \\\\ 7 \\end{bmatrix}\n",
        "\\qquad\n",
        "\\vec{b} = \\begin{bmatrix} 3 \\\\4 \\end{bmatrix}\n",
        "\\end{align}"
      ]
    },
    {
      "metadata": {
        "id": "I1BGXA_skV-b",
        "colab_type": "code",
        "outputId": "64eda579-4936-4106-eae1-699a3bdf4f21",
        "colab": {
          "base_uri": "https://localhost:8080/",
          "height": 265
        }
      },
      "cell_type": "code",
      "source": [
        "a = np.array([[5],[7]])\n",
        "b = np.array([[3],[4]])\n",
        "M = np.array([a, b])\n",
        "_, rows,cols = M.T.shape\n",
        "\n",
        "#Get absolute maxes for axis ranges to center origin\n",
        "#This is optional\n",
        "maxes = 1.1*np.amax(abs(M), axis = 0)\n",
        "colors = ['r', 'g']\n",
        "widths = [2,4]\n",
        "\n",
        "for i,l in enumerate(range(0,cols)):\n",
        "    xs = [0,M[i,0]]\n",
        "    ys = [0,M[i,1]]\n",
        "    plt.plot(xs,ys, colors[i], linewidth=widths[i])\n",
        "#     print(i,xs,ys)\n",
        "\n",
        "plt.plot(0,0,'ok') #<-- plot a black point at the origin\n",
        "plt.axis('equal')  #<-- set the axes to the same scale\n",
        "plt.xlim([-maxes[0],maxes[0]]) #<-- set the x axis limits\n",
        "plt.ylim([-maxes[1],maxes[1]]) #<-- set the y axis limits\n",
        "plt.legend(['a','b']) #<-- give a legend\n",
        "plt.grid(b=True, which='major') #<-- plot grid lines\n",
        "plt.show()\n"
      ],
      "execution_count": 0,
      "outputs": [
        {
          "output_type": "display_data",
          "data": {
            "image/png": "[encoded data removed]",
            "text/plain": [
              "<Figure size 432x288 with 1 Axes>"
            ]
          },
          "metadata": {
            "tags": []
          }
        }
      ]
    },
    {
      "metadata": {
        "id": "QN6RU_3gizpw",
        "colab_type": "text"
      },
      "cell_type": "markdown",
      "source": [
        "## 1.5 find $\\vec{a} - \\vec{b}$ and plot the result on the same graph as $\\vec{a}$ and $\\vec{b}$. Is there a relationship between vectors $\\vec{a} \\thinspace, \\vec{b} \\thinspace \\text{and} \\thinspace \\vec{a-b}$"
      ]
    },
    {
      "metadata": {
        "id": "68sWHIOPkXp5",
        "colab_type": "code",
        "outputId": "437e7b67-d813-40a9-bb64-8324486a2efd",
        "colab": {
          "base_uri": "https://localhost:8080/",
          "height": 265
        }
      },
      "cell_type": "code",
      "source": [
        "\n",
        "M = np.array([a, b, a-b])\n",
        "_, rows,cols = M.T.shape\n",
        "\n",
        "#Get absolute maxes for axis ranges to center origin\n",
        "#This is optional\n",
        "maxes = 1.1*np.amax(abs(M), axis = 0)\n",
        "colors = ['r', 'g', 'b']\n",
        "widths = [2,4,6]\n",
        "\n",
        "for i,l in enumerate(range(0,cols)):\n",
        "    xs = [0,M[i,0]]\n",
        "    ys = [0,M[i,1]]\n",
        "    plt.plot(xs,ys, colors[i], linewidth=widths[i])\n",
        "#     print(i,xs,ys)\n",
        "\n",
        "plt.plot(0,0,'ok') #<-- plot a black point at the origin\n",
        "plt.axis('equal')  #<-- set the axes to the same scale\n",
        "plt.xlim([-maxes[0],maxes[0]]) #<-- set the x axis limits\n",
        "plt.ylim([-maxes[1],maxes[1]]) #<-- set the y axis limits\n",
        "plt.legend(['a','b','a-b']) #<-- give a legend\n",
        "plt.grid(b=True, which='major') #<-- plot grid lines\n",
        "plt.show()"
      ],
      "execution_count": 0,
      "outputs": [
        {
          "output_type": "display_data",
          "data": {
            "image/png": "[encoded data removed]",
            "text/plain": [
              "<Figure size 432x288 with 1 Axes>"
            ]
          },
          "metadata": {
            "tags": []
          }
        }
      ]
    },
    {
      "metadata": {
        "id": "1ZPVuJAlehu_",
        "colab_type": "text"
      },
      "cell_type": "markdown",
      "source": [
        "## 1.6 Find $c \\cdot d$\n",
        "\n",
        "\\begin{align}\n",
        "\\vec{c} = \\begin{bmatrix}7 & 22 & 4 & 16\\end{bmatrix}\n",
        "\\qquad\n",
        "\\vec{d} = \\begin{bmatrix}12 & 6 & 2 & 9\\end{bmatrix}\n",
        "\\end{align}\n"
      ]
    },
    {
      "metadata": {
        "id": "2_cZQFCskYNr",
        "colab_type": "code",
        "outputId": "d07dda78-c6b1-44d8-db15-4a55a24d963d",
        "colab": {
          "base_uri": "https://localhost:8080/",
          "height": 87
        }
      },
      "cell_type": "code",
      "source": [
        "c = np.matrix('7; 22; 4; 16')\n",
        "d = np.matrix('12 6 2 9')\n",
        "print(np.dot(c,d))"
      ],
      "execution_count": 0,
      "outputs": [
        {
          "output_type": "stream",
          "text": [
            "[[ 84  42  14  63]\n",
            " [264 132  44 198]\n",
            " [ 48  24   8  36]\n",
            " [192  96  32 144]]\n"
          ],
          "name": "stdout"
        }
      ]
    },
    {
      "metadata": {
        "id": "cLm8yokpfg9B",
        "colab_type": "text"
      },
      "cell_type": "markdown",
      "source": [
        "##  1.7 Find $e \\times f$\n",
        "\n",
        "\\begin{align}\n",
        "\\vec{e} = \\begin{bmatrix} 5 \\\\ 7 \\\\ 2 \\end{bmatrix}\n",
        "\\qquad\n",
        "\\vec{f} = \\begin{bmatrix} 3 \\\\4 \\\\ 6 \\end{bmatrix}\n",
        "\\end{align}"
      ]
    },
    {
      "metadata": {
        "id": "ku-TdCKAkYs8",
        "colab_type": "code",
        "outputId": "9c8b8043-716d-469d-8b90-00ac3c34ae38",
        "colab": {
          "base_uri": "https://localhost:8080/",
          "height": 34
        }
      },
      "cell_type": "code",
      "source": [
        "np.cross(np.matrix('5 7 2'), np.matrix('3 4 6'))"
      ],
      "execution_count": 0,
      "outputs": [
        {
          "output_type": "execute_result",
          "data": {
            "text/plain": [
              "array([[ 34, -24,  -1]])"
            ]
          },
          "metadata": {
            "tags": []
          },
          "execution_count": 112
        }
      ]
    },
    {
      "metadata": {
        "id": "-TN8wO2-h53s",
        "colab_type": "text"
      },
      "cell_type": "markdown",
      "source": [
        "p## 1.8 Find $||g||$ and then find $||h||$. Which is longer?\n",
        "\n",
        "\\begin{align}\n",
        "\\vec{e} = \\begin{bmatrix} 1 \\\\ 1 \\\\ 1 \\\\ 8 \\end{bmatrix}\n",
        "\\qquad\n",
        "\\vec{f} = \\begin{bmatrix} 3 \\\\3 \\\\ 3 \\\\ 3 \\end{bmatrix}\n",
        "\\end{align}"
      ]
    },
    {
      "metadata": {
        "id": "-5VKOMKBlgaA",
        "colab_type": "code",
        "outputId": "fd1ddd52-3e38-4a9b-b701-627cac9f6c49",
        "colab": {
          "base_uri": "https://localhost:8080/",
          "height": 34
        }
      },
      "cell_type": "code",
      "source": [
        "gmag = np.linalg.norm([1,1,1,8])\n",
        "fmag = np.linalg.norm([3,3,3,3])\n",
        "print(f\"||g|| = {gmag}, ||h|| = {fmag} {'||g||' if gmag > fmag else '||h||'} is longer\")"
      ],
      "execution_count": 0,
      "outputs": [
        {
          "output_type": "stream",
          "text": [
            "||g|| = 8.18535277187245, ||h|| = 6.0 ||g|| is longer\n"
          ],
          "name": "stdout"
        }
      ]
    },
    {
      "metadata": {
        "id": "wby1GdwSoMKd",
        "colab_type": "text"
      },
      "cell_type": "markdown",
      "source": [
        "## 1.9 Show that the following vectors are orthogonal (perpendicular to each other):\n",
        "\n",
        "\\begin{align}\n",
        "\\vec{g} = \\begin{bmatrix} 1 \\\\ 0 \\\\ -1  \\end{bmatrix}\n",
        "\\qquad\n",
        "\\vec{h} = \\begin{bmatrix} 1 \\\\ \\sqrt{2} \\\\ 1 \\end{bmatrix}\n",
        "\\end{align}"
      ]
    },
    {
      "metadata": {
        "id": "1qgBBjGzoxZD",
        "colab_type": "code",
        "outputId": "0f1fa128-884c-4c91-ea90-f14e7cb94961",
        "colab": {
          "base_uri": "https://localhost:8080/",
          "height": 34
        }
      },
      "cell_type": "code",
      "source": [
        "import math\n",
        "np.dot([1,0,-1], [1,math.sqrt(2),1])"
      ],
      "execution_count": 0,
      "outputs": [
        {
          "output_type": "execute_result",
          "data": {
            "text/plain": [
              "0.0"
            ]
          },
          "metadata": {
            "tags": []
          },
          "execution_count": 115
        }
      ]
    },
    {
      "metadata": {
        "id": "njrWIMS-ZAoH",
        "colab_type": "text"
      },
      "cell_type": "markdown",
      "source": [
        "# Part 2 - Matrices"
      ]
    },
    {
      "metadata": {
        "id": "GjkcAVIOmOnn",
        "colab_type": "text"
      },
      "cell_type": "markdown",
      "source": [
        "## 2.1 What are the dimensions of the following matrices? Which of the following can be multiplied together? See if you can find all of the different legal combinations.\n",
        "\\begin{align}\n",
        "A = \\begin{bmatrix}\n",
        "1 & 2 \\\\\n",
        "3 & 4 \\\\\n",
        "5 & 6\n",
        "\\end{bmatrix}\n",
        "\\qquad\n",
        "B = \\begin{bmatrix}\n",
        "2 & 4 & 6 \\\\\n",
        "\\end{bmatrix}\n",
        "\\qquad\n",
        "C = \\begin{bmatrix}\n",
        "9 & 6 & 3 \\\\\n",
        "4 & 7 & 11\n",
        "\\end{bmatrix}\n",
        "\\qquad\n",
        "D = \\begin{bmatrix}\n",
        "1 & 0 & 0 \\\\\n",
        "0 & 1 & 0 \\\\\n",
        "0 & 0 & 1\n",
        "\\end{bmatrix}\n",
        "\\qquad\n",
        "E = \\begin{bmatrix}\n",
        "1 & 3 \\\\\n",
        "5 & 7\n",
        "\\end{bmatrix}\n",
        "\\end{align}"
      ]
    },
    {
      "metadata": {
        "id": "Rrjgfj385vpb",
        "colab_type": "text"
      },
      "cell_type": "markdown",
      "source": [
        "A is 3x2, B is 1x3, C is 2x3, D is 3x3, E is 2x2  "
      ]
    },
    {
      "metadata": {
        "id": "HdN8aILV5xt1",
        "colab_type": "code",
        "outputId": "bf30bfa5-41cf-44a6-a7d6-41337e7e9320",
        "colab": {
          "base_uri": "https://localhost:8080/",
          "height": 264
        }
      },
      "cell_type": "code",
      "source": [
        "A = np.matrix('1 2;3 4;5 6')\n",
        "B = np.matrix('2 4 6')\n",
        "C = np.matrix('9 6 3;4 7 11')\n",
        "D = np.matrix('1 0 0;0 1 0;0 0 1')\n",
        "E = np.matrix('1 3; 5 7')\n",
        "print(f'C * A {C*A}')\n",
        "print(f'B * A {B*A}')\n",
        "print(f'C * D {C*D}')\n",
        "print(f'D * A {D*A}')\n",
        "print(f'A * E {A*E}')\n",
        "print(f'E * C {E*C}')\n",
        "print(f'B * D {B*D}')"
      ],
      "execution_count": 0,
      "outputs": [
        {
          "output_type": "stream",
          "text": [
            "C * A [[ 42  60]\n",
            " [ 80 102]]\n",
            "B * A [[44 56]]\n",
            "C * D [[ 9  6  3]\n",
            " [ 4  7 11]]\n",
            "D * A [[1 2]\n",
            " [3 4]\n",
            " [5 6]]\n",
            "A * E [[11 17]\n",
            " [23 37]\n",
            " [35 57]]\n",
            "E * C [[21 27 36]\n",
            " [73 79 92]]\n",
            "B * D [[2 4 6]]\n"
          ],
          "name": "stdout"
        }
      ]
    },
    {
      "metadata": {
        "id": "lMOlCoM3ncGa",
        "colab_type": "text"
      },
      "cell_type": "markdown",
      "source": [
        "## 2.2 Find the following products: CD, AE, and BA. What are the dimensions of the resulting matrices? How does that relate to the dimensions of their factor matrices?"
      ]
    },
    {
      "metadata": {
        "id": "zhKwiSItoE2F",
        "colab_type": "code",
        "outputId": "94fe17b5-5ba3-44aa-b7af-10491f024e7d",
        "colab": {
          "base_uri": "https://localhost:8080/",
          "height": 123
        }
      },
      "cell_type": "code",
      "source": [
        "print(f'C * D {C*D} Dimensions {(C * D).shape}')\n",
        "print(f'A * E {A*E} Dimensions {(A * E).shape}')\n",
        "print(f'B * A {B*A} Dimensions {(B * A).shape}')\n",
        "# resulting matrixes have the same number of columns as the left mutiplyer and the same \n",
        "# number of rows as the right multiplyer"
      ],
      "execution_count": 0,
      "outputs": [
        {
          "output_type": "stream",
          "text": [
            "C * D [[ 9  6  3]\n",
            " [ 4  7 11]] Dimensions (2, 3)\n",
            "A * E [[11 17]\n",
            " [23 37]\n",
            " [35 57]] Dimensions (3, 2)\n",
            "B * A [[44 56]] Dimensions (1, 2)\n"
          ],
          "name": "stdout"
        }
      ]
    },
    {
      "metadata": {
        "id": "p2jmaGLgoFPN",
        "colab_type": "text"
      },
      "cell_type": "markdown",
      "source": [
        "## 2.3  Find $F^{T}$. How are the numbers along the main diagonal (top left to bottom right) of the original matrix and its transpose related? What are the dimensions of $F$? What are the dimensions of $F^{T}$?\n",
        "\n",
        "\\begin{align}\n",
        "F = \n",
        "\\begin{bmatrix}\n",
        "20 & 19 & 18 & 17 \\\\\n",
        "16 & 15 & 14 & 13 \\\\\n",
        "12 & 11 & 10 & 9 \\\\\n",
        "8 & 7 & 6 & 5 \\\\\n",
        "4 & 3 & 2 & 1\n",
        "\\end{bmatrix}\n",
        "\\end{align}"
      ]
    },
    {
      "metadata": {
        "id": "Wl3ElwgLqaAn",
        "colab_type": "code",
        "outputId": "73c59f91-dce0-48d4-9f96-b27c486362c7",
        "colab": {
          "base_uri": "https://localhost:8080/",
          "height": 105
        }
      },
      "cell_type": "code",
      "source": [
        "F = np.matrix('20 19 18 17; 16 15 14 13;12 11 10 9; 8 7 6 5;4 3 2 1')\n",
        "print(F.T,'\\n', F.shape, F.T.shape)\n",
        "# main diagonals are identical for F and F.T"
      ],
      "execution_count": 0,
      "outputs": [
        {
          "output_type": "stream",
          "text": [
            "[[20 16 12  8  4]\n",
            " [19 15 11  7  3]\n",
            " [18 14 10  6  2]\n",
            " [17 13  9  5  1]] \n",
            " (5, 4) (4, 5)\n"
          ],
          "name": "stdout"
        }
      ]
    },
    {
      "metadata": {
        "id": "13ik2LEEZLHn",
        "colab_type": "text"
      },
      "cell_type": "markdown",
      "source": [
        "# Part 3 - Square Matrices"
      ]
    },
    {
      "metadata": {
        "id": "sDBAPUwfp7f7",
        "colab_type": "text"
      },
      "cell_type": "markdown",
      "source": [
        "## 3.1 Find $IG$ (be sure to show your work) 😃\n",
        "\n",
        "\\begin{align}\n",
        "G= \n",
        "\\begin{bmatrix}\n",
        "12 & 11 \\\\\n",
        "7 & 10 \n",
        "\\end{bmatrix}\n",
        "\\end{align}"
      ]
    },
    {
      "metadata": {
        "id": "ZnqvZBOYqar3",
        "colab_type": "code",
        "outputId": "b30a22b8-d03a-4e05-86b6-359041803c7c",
        "colab": {
          "base_uri": "https://localhost:8080/",
          "height": 87
        }
      },
      "cell_type": "code",
      "source": [
        "G = np.matrix('12 11; 7 10')\n",
        "I = np.matrix('1 0;0 1')\n",
        "print(I * G)\n",
        "x00 = 1 * 12 + 0 * 7\n",
        "x01 = 1 * 11 + 0 * 10\n",
        "x10 = 0 * 12 + 1 * 7\n",
        "x11 = 0 * 11 + 1 * 10\n",
        "print(np.matrix(f'{x00} {x01}; {x10} {x11}'))"
      ],
      "execution_count": 0,
      "outputs": [
        {
          "output_type": "stream",
          "text": [
            "[[12 11]\n",
            " [ 7 10]]\n",
            "[[12 11]\n",
            " [ 7 10]]\n"
          ],
          "name": "stdout"
        }
      ]
    },
    {
      "metadata": {
        "id": "DZ_0XTDQqpMT",
        "colab_type": "text"
      },
      "cell_type": "markdown",
      "source": [
        "## 3.2 Find $|H|$ and then find $|J|$.\n",
        "\n",
        "\\begin{align}\n",
        "H= \n",
        "\\begin{bmatrix}\n",
        "12 & 11 \\\\\n",
        "7 & 10 \n",
        "\\end{bmatrix}\n",
        "\\qquad\n",
        "J= \n",
        "\\begin{bmatrix}\n",
        "0 & 1 & 2 \\\\\n",
        "7 & 10 & 4 \\\\\n",
        "3 & 2 & 0\n",
        "\\end{bmatrix}\n",
        "\\end{align}\n"
      ]
    },
    {
      "metadata": {
        "id": "5QShhoXyrjDS",
        "colab_type": "code",
        "outputId": "f368ca67-5315-4eb3-d862-c06f8613cdce",
        "colab": {
          "base_uri": "https://localhost:8080/",
          "height": 52
        }
      },
      "cell_type": "code",
      "source": [
        "H = np.matrix('12 11; 7 10')\n",
        "J = np.matrix('0 1  2; 7 10 4; 3 2 0')\n",
        "print(f\"|H| = {np.linalg.det(H)}\")\n",
        "print(f\"|J| = {np.linalg.det(J)}\")"
      ],
      "execution_count": 0,
      "outputs": [
        {
          "output_type": "stream",
          "text": [
            "|H| = 43.000000000000014\n",
            "|J| = -19.999999999999996\n"
          ],
          "name": "stdout"
        }
      ]
    },
    {
      "metadata": {
        "id": "2gZl1CFwrXSH",
        "colab_type": "text"
      },
      "cell_type": "markdown",
      "source": [
        "## 3.3 Find H^{-1} and then find J^{-1}"
      ]
    },
    {
      "metadata": {
        "id": "nyX6De2-rio1",
        "colab_type": "code",
        "outputId": "17bc545a-b92c-41a8-d722-0150bb97d6ce",
        "colab": {
          "base_uri": "https://localhost:8080/",
          "height": 140
        }
      },
      "cell_type": "code",
      "source": [
        "print(f'H^{{-1}}\\n{H.I}')\n",
        "print(f'J^{{-1}}\\n{J.I}')"
      ],
      "execution_count": 0,
      "outputs": [
        {
          "output_type": "stream",
          "text": [
            "H^{-1}\n",
            "[[ 0.2 -0.3]\n",
            " [-0.2  0.3]]\n",
            "J^{-1}\n",
            "[[ 0.4 -0.2  0.8]\n",
            " [-0.6  0.3 -0.7]\n",
            " [ 0.8 -0.1  0.4]]\n"
          ],
          "name": "stdout"
        }
      ]
    },
    {
      "metadata": {
        "id": "Vvd4Pe86rjhW",
        "colab_type": "text"
      },
      "cell_type": "markdown",
      "source": [
        "## 3.4 Find $HH^{-1}$ and then find $G^{-1}G$. Is $HH^{-1} == G^{-1}G$? Why or Why not?"
      ]
    },
    {
      "metadata": {
        "id": "JBm9q-byHjr6",
        "colab_type": "code",
        "outputId": "66eb021a-f295-48da-e6d2-fb34387ac1fd",
        "colab": {
          "base_uri": "https://localhost:8080/",
          "height": 123
        }
      },
      "cell_type": "code",
      "source": [
        "np.set_printoptions(1, suppress=True)\n",
        "print(f'HH⁻¹ is\\n{(H * H.I)}')\n",
        "print(f'GG⁻¹ is\\n{(G * G.I)}')\n",
        "#HH⁻¹ ==  GG⁻¹ == 2 dimensional identy matrix because an matrix times it's inverse is the \n",
        "# identity matrix"
      ],
      "execution_count": 0,
      "outputs": [
        {
          "output_type": "stream",
          "text": [
            "HH⁻¹ is\n",
            "[[1. 0.]\n",
            " [0. 1.]]\n",
            "GG⁻¹ is\n",
            "[[1. 0.]\n",
            " [0. 1.]]\n"
          ],
          "name": "stdout"
        }
      ]
    },
    {
      "metadata": {
        "id": "V0iTO4McYjtk",
        "colab_type": "text"
      },
      "cell_type": "markdown",
      "source": [
        "# Stretch Goals: \n",
        "\n",
        "A reminder that these challenges are optional. If you finish your work quickly we welcome you to work on them. If there are other activities that you feel like will help your understanding of the above topics more, feel free to work on that. Topics from the Stretch Goals sections will never end up on Sprint Challenges. You don't have to do these in order, you don't have to do all of them. \n",
        "\n",
        "- Write a function that can calculate the dot product of any two vectors of equal length that are passed to it.\n",
        "- Write a function that can calculate the norm of any vector\n",
        "- Prove to yourself again that the vectors in 1.9 are orthogonal by graphing them. \n",
        "- Research how to plot a 3d graph with animations so that you can make the graph rotate (this will be easier in a local notebook than in google colab)\n",
        "- Create and plot a matrix on a 2d graph.\n",
        "- Create and plot a matrix on a 3d graph.\n",
        "- Plot two vectors that are not collinear on a 2d graph. Calculate the determinant of the 2x2 matrix that these vectors form. How does this determinant relate to the graphical interpretation of the vectors?\n",
        "\n"
      ]
    }
  ]
}