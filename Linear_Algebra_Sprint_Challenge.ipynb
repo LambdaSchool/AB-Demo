{
  "nbformat": 4,
  "nbformat_minor": 0,
  "metadata": {
    "colab": {
      "name": "Linear Algebra Sprint Challenge.ipynb",
      "version": "0.3.2",
      "provenance": [],
      "include_colab_link": true
    },
    "kernelspec": {
      "name": "python3",
      "display_name": "Python 3"
    }
  },
  "cells": [
    {
      "cell_type": "markdown",
      "metadata": {
        "id": "view-in-github",
        "colab_type": "text"
      },
      "source": [
        "<a href=\"https://colab.research.google.com/github/invegat/AB-Demo/blob/master/Linear_Algebra_Sprint_Challenge.ipynb\" target=\"_parent\"><img src=\"https://colab.research.google.com/assets/colab-badge.svg\" alt=\"Open In Colab\"/></a>"
      ]
    },
    {
      "metadata": {
        "id": "-wQxiT7yC4_v",
        "colab_type": "text"
      },
      "cell_type": "markdown",
      "source": [
        "#Linear Algebra"
      ]
    },
    {
      "metadata": {
        "id": "aiUlaNJkECCL",
        "colab_type": "text"
      },
      "cell_type": "markdown",
      "source": [
        "## 1.1 Graph vector $\\vec{a}$ \n",
        "\n",
        "\\begin{align}\n",
        "\\vec{a} = \\begin{bmatrix} 3 \\\\ 2 \\end{bmatrix}\n",
        "\\end{align}"
      ]
    },
    {
      "metadata": {
        "id": "QpCKt0n5IeiY",
        "colab_type": "code",
        "colab": {
          "base_uri": "https://localhost:8080/",
          "height": 178
        },
        "outputId": "b8770063-3134-4326-d998-e94817c707f9"
      },
      "cell_type": "code",
      "source": [
        "!pip install -U matplotlib"
      ],
      "execution_count": 1,
      "outputs": [
        {
          "output_type": "stream",
          "text": [
            "Requirement already up-to-date: matplotlib in /usr/local/lib/python3.6/dist-packages (3.0.2)\n",
            "Requirement already satisfied, skipping upgrade: cycler>=0.10 in /usr/local/lib/python3.6/dist-packages (from matplotlib) (0.10.0)\n",
            "Requirement already satisfied, skipping upgrade: numpy>=1.10.0 in /usr/local/lib/python3.6/dist-packages (from matplotlib) (1.14.6)\n",
            "Requirement already satisfied, skipping upgrade: pyparsing!=2.0.4,!=2.1.2,!=2.1.6,>=2.0.1 in /usr/local/lib/python3.6/dist-packages (from matplotlib) (2.3.0)\n",
            "Requirement already satisfied, skipping upgrade: python-dateutil>=2.1 in /usr/local/lib/python3.6/dist-packages (from matplotlib) (2.5.3)\n",
            "Requirement already satisfied, skipping upgrade: kiwisolver>=1.0.1 in /usr/local/lib/python3.6/dist-packages (from matplotlib) (1.0.1)\n",
            "Requirement already satisfied, skipping upgrade: six in /usr/local/lib/python3.6/dist-packages (from cycler>=0.10->matplotlib) (1.11.0)\n",
            "Requirement already satisfied, skipping upgrade: setuptools in /usr/local/lib/python3.6/dist-packages (from kiwisolver>=1.0.1->matplotlib) (40.6.3)\n"
          ],
          "name": "stdout"
        }
      ]
    },
    {
      "metadata": {
        "id": "odHj83rgqNaE",
        "colab_type": "code",
        "colab": {
          "base_uri": "https://localhost:8080/",
          "height": 34
        },
        "outputId": "18217689-8110-4540-f8a6-ef82343e3ee4"
      },
      "cell_type": "code",
      "source": [
        "%matplotlib inline\n",
        "import matplotlib\n",
        "matplotlib.__version__"
      ],
      "execution_count": 1,
      "outputs": [
        {
          "output_type": "execute_result",
          "data": {
            "text/plain": [
              "'3.0.2'"
            ]
          },
          "metadata": {
            "tags": []
          },
          "execution_count": 1
        }
      ]
    },
    {
      "metadata": {
        "id": "l_evN-Vpq2r7",
        "colab_type": "code",
        "colab": {}
      },
      "cell_type": "code",
      "source": [
        "import numpy as np\n",
        "import matplotlib.pyplot as plt"
      ],
      "execution_count": 0,
      "outputs": []
    },
    {
      "metadata": {
        "id": "PoAw6gMPqVTJ",
        "colab_type": "code",
        "colab": {
          "base_uri": "https://localhost:8080/",
          "height": 362
        },
        "outputId": "5d7bae49-e8d1-4467-ff69-ff8e56338cc0"
      },
      "cell_type": "code",
      "source": [
        "ax = plt.gca()\n",
        "a = [3,2]\n",
        "\n",
        "ax.arrow(0, 0, a[0], a[1], color='b',\n",
        "              linewidth=2, length_includes_head=True, width=0.01)\n",
        "\n",
        "plt.axis('equal')  #<-- set the axes to the same scale\n",
        "plt.xlim([-1,4]) #<-- set the x axis limits\n",
        "plt.ylim([-1,4]) #<-- set the y axis limits\n",
        "plt.title('vector a')\n",
        "plt.show()"
      ],
      "execution_count": 3,
      "outputs": [
        {
          "output_type": "display_data",
          "data": {
            "image/png": "[encoded data removed]",
            "text/plain": [
              "<Figure size 576x396 with 1 Axes>"
            ]
          },
          "metadata": {
            "tags": []
          }
        }
      ]
    },
    {
      "metadata": {
        "id": "BDLB08NXEiUN",
        "colab_type": "text"
      },
      "cell_type": "markdown",
      "source": [
        "## 1.2 Find $||\\vec{b}||$. What does the norm of a vector represent?\n",
        "\\begin{align}\n",
        "\\vec{b} = \\begin{bmatrix} 17 & -4 & -2 & 1\\end{bmatrix}\n",
        "\\end{align}\n"
      ]
    },
    {
      "metadata": {
        "id": "Cy22fjaeqQ_e",
        "colab_type": "code",
        "colab": {
          "base_uri": "https://localhost:8080/",
          "height": 52
        },
        "outputId": "7c19c237-719f-4f4b-9d7b-938e889d5c2a"
      },
      "cell_type": "code",
      "source": [
        "b = [17,-4,-2,1]\n",
        "print(np.linalg.norm(b))\n",
        "print(sum([x**2 for x in b]) ** 0.5)\n",
        "# norm is the magnitude aka length of a vector"
      ],
      "execution_count": 67,
      "outputs": [
        {
          "output_type": "stream",
          "text": [
            "17.60681686165901\n",
            "17.60681686165901\n"
          ],
          "name": "stdout"
        }
      ]
    },
    {
      "metadata": {
        "id": "vBbJ0ZyPD6RG",
        "colab_type": "text"
      },
      "cell_type": "markdown",
      "source": [
        "## 1.3 Find $\\vec{c} \\cdot \\vec{d}$\n",
        "\n",
        "\\begin{align}\n",
        "\\vec{c} = \\begin{bmatrix}3 & 7 & -2 & 12\\end{bmatrix}\n",
        "\\qquad\n",
        "\\vec{d} = \\begin{bmatrix}9 & -7 & 4 & 6\\end{bmatrix}\n",
        "\\end{align}"
      ]
    },
    {
      "metadata": {
        "id": "NYb8BalmIfgY",
        "colab_type": "code",
        "colab": {
          "base_uri": "https://localhost:8080/",
          "height": 52
        },
        "outputId": "e985522c-8b3c-4edb-82ea-c886187179f2"
      },
      "cell_type": "code",
      "source": [
        "c = np.array([3, 7, -2, 12])\n",
        "d = np.array([9, -7, 4, 6])\n",
        "print(np.dot(c,d))\n",
        "print(3*9+7*-7 + -2*4 + 12*6)"
      ],
      "execution_count": 68,
      "outputs": [
        {
          "output_type": "stream",
          "text": [
            "42\n",
            "42\n"
          ],
          "name": "stdout"
        }
      ]
    },
    {
      "metadata": {
        "id": "gS85sJHWG7iU",
        "colab_type": "text"
      },
      "cell_type": "markdown",
      "source": [
        "## 1.4 Find $E^{-1}$ and $E^{T}$\n",
        "\n",
        "\\begin{align}\n",
        "E = \n",
        "\\begin{bmatrix}\n",
        "    7 & 4 & 2 \\\\\n",
        "    1 & 3 & -1 \\\\\n",
        "    2 & 6 & -4\n",
        "\\end{bmatrix}\n",
        "\\end{align}"
      ]
    },
    {
      "metadata": {
        "id": "QiISq5egIgSS",
        "colab_type": "code",
        "colab": {
          "base_uri": "https://localhost:8080/",
          "height": 176
        },
        "outputId": "51952e74-3f76-4c57-8e46-43e9b325499c"
      },
      "cell_type": "code",
      "source": [
        "E = np.matrix('7 4 2;1 3 -1;2 6 -4')\n",
        "print(f'E⁻¹\\n{E.I}\\n\\nEᵀ\\n{E.T}')"
      ],
      "execution_count": 6,
      "outputs": [
        {
          "output_type": "stream",
          "text": [
            "E⁻¹\n",
            "[[ 0.17647059 -0.82352941  0.29411765]\n",
            " [-0.05882353  0.94117647 -0.26470588]\n",
            " [ 0.          1.         -0.5       ]]\n",
            "\n",
            "Eᵀ\n",
            "[[ 7  1  2]\n",
            " [ 4  3  6]\n",
            " [ 2 -1 -4]]\n"
          ],
          "name": "stdout"
        }
      ]
    },
    {
      "metadata": {
        "id": "TPzrKzEvC5YU",
        "colab_type": "text"
      },
      "cell_type": "markdown",
      "source": [
        "# Intermediate Linear Algebra"
      ]
    },
    {
      "metadata": {
        "id": "ap-us2lBGQyi",
        "colab_type": "text"
      },
      "cell_type": "markdown",
      "source": [
        "## 2.1 Suppose that the number of customers at a ski resort as well as the number of inches of fresh powder (snow)  was recorded for 7 days. \n",
        "\n",
        "### Customers: [820, 760, 1250, 990, 1080, 1450, 1600]\n",
        "\n",
        "### Inches of new snow: [0, 1, 7, 1, 0, 6, 4 ]\n",
        "\n",
        "## Find the mean, variance, and standard deviation for both the number of customers and inches of new snow for the week. You may use library functions, dataframes, .describe(), etc. \n",
        "\n"
      ]
    },
    {
      "metadata": {
        "id": "xS-JuHl9JiiP",
        "colab_type": "code",
        "outputId": "34064649-6a69-41b1-face-4a9358be7010",
        "colab": {
          "base_uri": "https://localhost:8080/",
          "height": 52
        }
      },
      "cell_type": "code",
      "source": [
        "import pandas as pd\n",
        "\n",
        "\n",
        "customers = [820, 760, 1250, 990, 1080, 1450, 1600]\n",
        "snow = [0, 1, 7, 1, 0, 6, 4]\n",
        "\n",
        "df = pd.DataFrame({'customers': customers, 'snow': snow})\n",
        "\n",
        "d = df.describe()\n",
        "\n",
        "# print(f'customers mean: {np.mean(customers)} variance {np.std(customers)*2} standard deviation {np.std(customers)}')\n",
        "# print(f'snow mean: {np.mean(snow)} variance {np.std(snow)*2} standard deviation {np.std(snow)}')\n",
        "\n",
        "for i,k in zip(range(len(df.columns)),df.columns):\n",
        "  print(f\"{k} mean: {d.loc['mean'][i]} variance {d.loc['std'][i]*2} standard deviation {d.loc['std'][i]}\")\n",
        "\n"
      ],
      "execution_count": 66,
      "outputs": [
        {
          "output_type": "stream",
          "text": [
            "customers mean: 1135.7142857142858 variance 628.5281370373319 standard deviation 314.26406851866597\n",
            "snow mean: 2.7142857142857144 variance 5.855400437691199 standard deviation 2.9277002188455996\n"
          ],
          "name": "stdout"
        }
      ]
    },
    {
      "metadata": {
        "id": "3ePJtK4VLTLH",
        "colab_type": "text"
      },
      "cell_type": "markdown",
      "source": [
        "## 2.2 Are the variances of the number of customers and inches of snow comparable? \n",
        "## Why or why not? "
      ]
    },
    {
      "metadata": {
        "id": "LvTtgZ-5Ndw_",
        "colab_type": "code",
        "colab": {}
      },
      "cell_type": "code",
      "source": [
        "no, they are not normalized or have a common scale"
      ],
      "execution_count": 0,
      "outputs": []
    },
    {
      "metadata": {
        "id": "ixhZVGxfGVFh",
        "colab_type": "text"
      },
      "cell_type": "markdown",
      "source": [
        "## 2.3 Find the variance-covariance matrix for the number of customers and inches of snow at the ski resort. "
      ]
    },
    {
      "metadata": {
        "id": "IbglmVaxJjO7",
        "colab_type": "code",
        "colab": {
          "base_uri": "https://localhost:8080/",
          "height": 52
        },
        "outputId": "16c0cb11-e4e0-4ab3-ea55-bd982241904e"
      },
      "cell_type": "code",
      "source": [
        "print(np.cov(customers, snow))"
      ],
      "execution_count": 20,
      "outputs": [
        {
          "output_type": "stream",
          "text": [
            "[[9.87619048e+04 6.70238095e+02]\n",
            " [6.70238095e+02 8.57142857e+00]]\n"
          ],
          "name": "stdout"
        }
      ]
    },
    {
      "metadata": {
        "id": "6Ks3_TbNC5yJ",
        "colab_type": "text"
      },
      "cell_type": "markdown",
      "source": [
        "# PCA"
      ]
    },
    {
      "metadata": {
        "id": "f6qJAPaaOdzD",
        "colab_type": "text"
      },
      "cell_type": "markdown",
      "source": [
        "## 3.1 Standardize the data so that it has a mean of 0 and a standard deviation of 1. (You may use library functions)\n",
        "\n",
        "We have included some code to get you started so that you don't get stuck on something that isn't standardizing the data or PCA.\n",
        "\n",
        "This might be helpful:\n",
        "\n",
        "<https://scikit-learn.org/stable/modules/generated/sklearn.preprocessing.StandardScaler.html>"
      ]
    },
    {
      "metadata": {
        "id": "bogsxfNyJlAw",
        "colab_type": "code",
        "outputId": "81417986-5c7d-403e-9417-2d46909c47c9",
        "colab": {
          "base_uri": "https://localhost:8080/",
          "height": 229
        }
      },
      "cell_type": "code",
      "source": [
        "# Let me get you some data to start you off.\n",
        "import pandas as pd\n",
        "\n",
        "data = {\"Country\": [\"England\",\"Wales\",\"Scotland\",\"North Ireland\"], \n",
        "        \"Cheese\": [105,103,103,66], \n",
        "        \"Carcass_Meat\": [245,227,242,267], \n",
        "        \"Other_Meat\": [685, 803, 750, 586], \n",
        "        \"Fish\": [147, 160, 122, 93], \n",
        "        \"Fats_and_Oils\": [193, 235, 184, 209], \n",
        "        \"Sugars\": [156, 175, 147, 139], \n",
        "        \"Fresh_Potatoes\": [720, 874, 566, 1033], \n",
        "        \"Fresh_Veg\": [253, 265, 171, 143], \n",
        "        \"Other_Veg\": [488, 570, 418, 355], \n",
        "        \"Processed_Potatoes\": [198, 203, 220, 187], \n",
        "        \"Processed_Veg\": [360, 365, 337, 334], \n",
        "        \"Fresh_Fruit\": [1102, 1137, 957, 674], \n",
        "        \"Cereals\": [1472, 1582, 1462, 1494], \n",
        "        \"Beverages\": [57,73,53,47], \n",
        "        \"Soft_Drinks\": [1374, 1256, 1572, 1506], \n",
        "        \"Alcoholic Drinks\": [375, 475, 458, 135], \n",
        "        \"Confectionery\": [54, 64, 62, 41]}\n",
        "\n",
        "df = pd.DataFrame(data)\n",
        "\n",
        "# Look at the data\n",
        "df.head()"
      ],
      "execution_count": 22,
      "outputs": [
        {
          "output_type": "execute_result",
          "data": {
            "text/html": [
              "<div>\n",
              "<style scoped>\n",
              "    .dataframe tbody tr th:only-of-type {\n",
              "        vertical-align: middle;\n",
              "    }\n",
              "\n",
              "    .dataframe tbody tr th {\n",
              "        vertical-align: top;\n",
              "    }\n",
              "\n",
              "    .dataframe thead th {\n",
              "        text-align: right;\n",
              "    }\n",
              "</style>\n",
              "<table border=\"1\" class=\"dataframe\">\n",
              "  <thead>\n",
              "    <tr style=\"text-align: right;\">\n",
              "      <th></th>\n",
              "      <th>Alcoholic Drinks</th>\n",
              "      <th>Beverages</th>\n",
              "      <th>Carcass_Meat</th>\n",
              "      <th>Cereals</th>\n",
              "      <th>Cheese</th>\n",
              "      <th>Confectionery</th>\n",
              "      <th>Country</th>\n",
              "      <th>Fats_and_Oils</th>\n",
              "      <th>Fish</th>\n",
              "      <th>Fresh_Fruit</th>\n",
              "      <th>Fresh_Potatoes</th>\n",
              "      <th>Fresh_Veg</th>\n",
              "      <th>Other_Meat</th>\n",
              "      <th>Other_Veg</th>\n",
              "      <th>Processed_Potatoes</th>\n",
              "      <th>Processed_Veg</th>\n",
              "      <th>Soft_Drinks</th>\n",
              "      <th>Sugars</th>\n",
              "    </tr>\n",
              "  </thead>\n",
              "  <tbody>\n",
              "    <tr>\n",
              "      <th>0</th>\n",
              "      <td>375</td>\n",
              "      <td>57</td>\n",
              "      <td>245</td>\n",
              "      <td>1472</td>\n",
              "      <td>105</td>\n",
              "      <td>54</td>\n",
              "      <td>England</td>\n",
              "      <td>193</td>\n",
              "      <td>147</td>\n",
              "      <td>1102</td>\n",
              "      <td>720</td>\n",
              "      <td>253</td>\n",
              "      <td>685</td>\n",
              "      <td>488</td>\n",
              "      <td>198</td>\n",
              "      <td>360</td>\n",
              "      <td>1374</td>\n",
              "      <td>156</td>\n",
              "    </tr>\n",
              "    <tr>\n",
              "      <th>1</th>\n",
              "      <td>475</td>\n",
              "      <td>73</td>\n",
              "      <td>227</td>\n",
              "      <td>1582</td>\n",
              "      <td>103</td>\n",
              "      <td>64</td>\n",
              "      <td>Wales</td>\n",
              "      <td>235</td>\n",
              "      <td>160</td>\n",
              "      <td>1137</td>\n",
              "      <td>874</td>\n",
              "      <td>265</td>\n",
              "      <td>803</td>\n",
              "      <td>570</td>\n",
              "      <td>203</td>\n",
              "      <td>365</td>\n",
              "      <td>1256</td>\n",
              "      <td>175</td>\n",
              "    </tr>\n",
              "    <tr>\n",
              "      <th>2</th>\n",
              "      <td>458</td>\n",
              "      <td>53</td>\n",
              "      <td>242</td>\n",
              "      <td>1462</td>\n",
              "      <td>103</td>\n",
              "      <td>62</td>\n",
              "      <td>Scotland</td>\n",
              "      <td>184</td>\n",
              "      <td>122</td>\n",
              "      <td>957</td>\n",
              "      <td>566</td>\n",
              "      <td>171</td>\n",
              "      <td>750</td>\n",
              "      <td>418</td>\n",
              "      <td>220</td>\n",
              "      <td>337</td>\n",
              "      <td>1572</td>\n",
              "      <td>147</td>\n",
              "    </tr>\n",
              "    <tr>\n",
              "      <th>3</th>\n",
              "      <td>135</td>\n",
              "      <td>47</td>\n",
              "      <td>267</td>\n",
              "      <td>1494</td>\n",
              "      <td>66</td>\n",
              "      <td>41</td>\n",
              "      <td>North Ireland</td>\n",
              "      <td>209</td>\n",
              "      <td>93</td>\n",
              "      <td>674</td>\n",
              "      <td>1033</td>\n",
              "      <td>143</td>\n",
              "      <td>586</td>\n",
              "      <td>355</td>\n",
              "      <td>187</td>\n",
              "      <td>334</td>\n",
              "      <td>1506</td>\n",
              "      <td>139</td>\n",
              "    </tr>\n",
              "  </tbody>\n",
              "</table>\n",
              "</div>"
            ],
            "text/plain": [
              "   Alcoholic Drinks  Beverages  Carcass_Meat  Cereals  Cheese  Confectionery  \\\n",
              "0               375         57           245     1472     105             54   \n",
              "1               475         73           227     1582     103             64   \n",
              "2               458         53           242     1462     103             62   \n",
              "3               135         47           267     1494      66             41   \n",
              "\n",
              "         Country  Fats_and_Oils  Fish  Fresh_Fruit  Fresh_Potatoes  Fresh_Veg  \\\n",
              "0        England            193   147         1102             720        253   \n",
              "1          Wales            235   160         1137             874        265   \n",
              "2       Scotland            184   122          957             566        171   \n",
              "3  North Ireland            209    93          674            1033        143   \n",
              "\n",
              "   Other_Meat  Other_Veg  Processed_Potatoes  Processed_Veg  Soft_Drinks  \\\n",
              "0         685        488                 198            360         1374   \n",
              "1         803        570                 203            365         1256   \n",
              "2         750        418                 220            337         1572   \n",
              "3         586        355                 187            334         1506   \n",
              "\n",
              "   Sugars  \n",
              "0     156  \n",
              "1     175  \n",
              "2     147  \n",
              "3     139  "
            ]
          },
          "metadata": {
            "tags": []
          },
          "execution_count": 22
        }
      ]
    },
    {
      "metadata": {
        "id": "gV9KN84eiYC1",
        "colab_type": "code",
        "outputId": "87fc4ee0-43f9-4d16-fd0b-81ade8eca95b",
        "colab": {
          "base_uri": "https://localhost:8080/",
          "height": 229
        }
      },
      "cell_type": "code",
      "source": [
        "# Only numeric columns in dataframe for pasing to PCA\n",
        "\n",
        "X = df.drop('Country', axis=1)\n",
        "print(len(X))\n",
        "X.head()"
      ],
      "execution_count": 37,
      "outputs": [
        {
          "output_type": "stream",
          "text": [
            "4\n"
          ],
          "name": "stdout"
        },
        {
          "output_type": "execute_result",
          "data": {
            "text/html": [
              "<div>\n",
              "<style scoped>\n",
              "    .dataframe tbody tr th:only-of-type {\n",
              "        vertical-align: middle;\n",
              "    }\n",
              "\n",
              "    .dataframe tbody tr th {\n",
              "        vertical-align: top;\n",
              "    }\n",
              "\n",
              "    .dataframe thead th {\n",
              "        text-align: right;\n",
              "    }\n",
              "</style>\n",
              "<table border=\"1\" class=\"dataframe\">\n",
              "  <thead>\n",
              "    <tr style=\"text-align: right;\">\n",
              "      <th></th>\n",
              "      <th>Alcoholic Drinks</th>\n",
              "      <th>Beverages</th>\n",
              "      <th>Carcass_Meat</th>\n",
              "      <th>Cereals</th>\n",
              "      <th>Cheese</th>\n",
              "      <th>Confectionery</th>\n",
              "      <th>Fats_and_Oils</th>\n",
              "      <th>Fish</th>\n",
              "      <th>Fresh_Fruit</th>\n",
              "      <th>Fresh_Potatoes</th>\n",
              "      <th>Fresh_Veg</th>\n",
              "      <th>Other_Meat</th>\n",
              "      <th>Other_Veg</th>\n",
              "      <th>Processed_Potatoes</th>\n",
              "      <th>Processed_Veg</th>\n",
              "      <th>Soft_Drinks</th>\n",
              "      <th>Sugars</th>\n",
              "    </tr>\n",
              "  </thead>\n",
              "  <tbody>\n",
              "    <tr>\n",
              "      <th>0</th>\n",
              "      <td>375</td>\n",
              "      <td>57</td>\n",
              "      <td>245</td>\n",
              "      <td>1472</td>\n",
              "      <td>105</td>\n",
              "      <td>54</td>\n",
              "      <td>193</td>\n",
              "      <td>147</td>\n",
              "      <td>1102</td>\n",
              "      <td>720</td>\n",
              "      <td>253</td>\n",
              "      <td>685</td>\n",
              "      <td>488</td>\n",
              "      <td>198</td>\n",
              "      <td>360</td>\n",
              "      <td>1374</td>\n",
              "      <td>156</td>\n",
              "    </tr>\n",
              "    <tr>\n",
              "      <th>1</th>\n",
              "      <td>475</td>\n",
              "      <td>73</td>\n",
              "      <td>227</td>\n",
              "      <td>1582</td>\n",
              "      <td>103</td>\n",
              "      <td>64</td>\n",
              "      <td>235</td>\n",
              "      <td>160</td>\n",
              "      <td>1137</td>\n",
              "      <td>874</td>\n",
              "      <td>265</td>\n",
              "      <td>803</td>\n",
              "      <td>570</td>\n",
              "      <td>203</td>\n",
              "      <td>365</td>\n",
              "      <td>1256</td>\n",
              "      <td>175</td>\n",
              "    </tr>\n",
              "    <tr>\n",
              "      <th>2</th>\n",
              "      <td>458</td>\n",
              "      <td>53</td>\n",
              "      <td>242</td>\n",
              "      <td>1462</td>\n",
              "      <td>103</td>\n",
              "      <td>62</td>\n",
              "      <td>184</td>\n",
              "      <td>122</td>\n",
              "      <td>957</td>\n",
              "      <td>566</td>\n",
              "      <td>171</td>\n",
              "      <td>750</td>\n",
              "      <td>418</td>\n",
              "      <td>220</td>\n",
              "      <td>337</td>\n",
              "      <td>1572</td>\n",
              "      <td>147</td>\n",
              "    </tr>\n",
              "    <tr>\n",
              "      <th>3</th>\n",
              "      <td>135</td>\n",
              "      <td>47</td>\n",
              "      <td>267</td>\n",
              "      <td>1494</td>\n",
              "      <td>66</td>\n",
              "      <td>41</td>\n",
              "      <td>209</td>\n",
              "      <td>93</td>\n",
              "      <td>674</td>\n",
              "      <td>1033</td>\n",
              "      <td>143</td>\n",
              "      <td>586</td>\n",
              "      <td>355</td>\n",
              "      <td>187</td>\n",
              "      <td>334</td>\n",
              "      <td>1506</td>\n",
              "      <td>139</td>\n",
              "    </tr>\n",
              "  </tbody>\n",
              "</table>\n",
              "</div>"
            ],
            "text/plain": [
              "   Alcoholic Drinks  Beverages  Carcass_Meat  Cereals  Cheese  Confectionery  \\\n",
              "0               375         57           245     1472     105             54   \n",
              "1               475         73           227     1582     103             64   \n",
              "2               458         53           242     1462     103             62   \n",
              "3               135         47           267     1494      66             41   \n",
              "\n",
              "   Fats_and_Oils  Fish  Fresh_Fruit  Fresh_Potatoes  Fresh_Veg  Other_Meat  \\\n",
              "0            193   147         1102             720        253         685   \n",
              "1            235   160         1137             874        265         803   \n",
              "2            184   122          957             566        171         750   \n",
              "3            209    93          674            1033        143         586   \n",
              "\n",
              "   Other_Veg  Processed_Potatoes  Processed_Veg  Soft_Drinks  Sugars  \n",
              "0        488                 198            360         1374     156  \n",
              "1        570                 203            365         1256     175  \n",
              "2        418                 220            337         1572     147  \n",
              "3        355                 187            334         1506     139  "
            ]
          },
          "metadata": {
            "tags": []
          },
          "execution_count": 37
        }
      ]
    },
    {
      "metadata": {
        "id": "n53cv16ilSUk",
        "colab_type": "code",
        "outputId": "f3d984ee-6139-40e3-9b4b-ad0da132cb78",
        "colab": {
          "base_uri": "https://localhost:8080/",
          "height": 158
        }
      },
      "cell_type": "code",
      "source": [
        "# We'll also turn the X dataframe into an numpy array for you in case \n",
        "# you're more familiar with using numpy arrays ;)\n",
        "\n",
        "# You may choose which one you would rather use.\n",
        "\n",
        "# Feel free to change the variable names if you don't like mine.\n",
        "\n",
        "numpy_X = X.values\n",
        "print(numpy_X)"
      ],
      "execution_count": 24,
      "outputs": [
        {
          "output_type": "stream",
          "text": [
            "[[ 375   57  245 1472  105   54  193  147 1102  720  253  685  488  198\n",
            "   360 1374  156]\n",
            " [ 475   73  227 1582  103   64  235  160 1137  874  265  803  570  203\n",
            "   365 1256  175]\n",
            " [ 458   53  242 1462  103   62  184  122  957  566  171  750  418  220\n",
            "   337 1572  147]\n",
            " [ 135   47  267 1494   66   41  209   93  674 1033  143  586  355  187\n",
            "   334 1506  139]]\n"
          ],
          "name": "stdout"
        }
      ]
    },
    {
      "metadata": {
        "id": "2HY91nOpaTTZ",
        "colab_type": "code",
        "colab": {
          "base_uri": "https://localhost:8080/",
          "height": 125
        },
        "outputId": "88d8d4a8-e403-4e46-8ac2-07dbf4936c14"
      },
      "cell_type": "code",
      "source": [
        "from sklearn.preprocessing import StandardScaler\n",
        "scaler = StandardScaler()\n",
        "std = scaler.fit_transform(X)\n",
        "sdf = pd.DataFrame(std, columns = X.columns)\n",
        "print(np.mean(sdf.Cheese),np.std(sdf.Cheese), len(sdf))"
      ],
      "execution_count": 36,
      "outputs": [
        {
          "output_type": "stream",
          "text": [
            "0.0 1.0000000000000002 4\n"
          ],
          "name": "stdout"
        },
        {
          "output_type": "stream",
          "text": [
            "/usr/local/lib/python3.6/dist-packages/sklearn/preprocessing/data.py:625: DataConversionWarning: Data with input dtype int64 were all converted to float64 by StandardScaler.\n",
            "  return self.partial_fit(X, y)\n",
            "/usr/local/lib/python3.6/dist-packages/sklearn/base.py:462: DataConversionWarning: Data with input dtype int64 were all converted to float64 by StandardScaler.\n",
            "  return self.fit(X, **fit_params).transform(X)\n"
          ],
          "name": "stderr"
        }
      ]
    },
    {
      "metadata": {
        "id": "5U50KZkdJb_s",
        "colab_type": "text"
      },
      "cell_type": "markdown",
      "source": [
        "## 3.2 Perform PCA on the data and graph Principal Component 1 against Principal Component 2. (You may use library functions)\n",
        "\n",
        "This might be helpful:\n",
        "\n",
        "<https://scikit-learn.org/stable/modules/generated/sklearn.decomposition.PCA.html>"
      ]
    },
    {
      "metadata": {
        "id": "RqjwVokgP1fL",
        "colab_type": "code",
        "colab": {
          "base_uri": "https://localhost:8080/",
          "height": 347
        },
        "outputId": "d5f05c62-8401-43b9-facd-eaed13bd0ebf"
      },
      "cell_type": "code",
      "source": [
        "from sklearn.decomposition import PCA\n",
        "pca = PCA(n_components=2)\n",
        "principalComponents = pca.fit_transform(sdf)\n",
        "pdf = pd.DataFrame(data = principalComponents, columns = ['x', 'y'])\n",
        "plt.scatter(pdf.x, pdf.y)\n",
        "plt.show()"
      ],
      "execution_count": 32,
      "outputs": [
        {
          "output_type": "display_data",
          "data": {
            "image/png": "[encoded data removed]",
            "text/plain": [
              "<Figure size 576x396 with 1 Axes>"
            ]
          },
          "metadata": {
            "tags": []
          }
        }
      ]
    },
    {
      "metadata": {
        "id": "z-RzYKR0C6Wg",
        "colab_type": "text"
      },
      "cell_type": "markdown",
      "source": [
        "# Clustering"
      ]
    },
    {
      "metadata": {
        "id": "62efk4plJe54",
        "colab_type": "text"
      },
      "cell_type": "markdown",
      "source": [
        "## 4.1 Use K-Means to cluster the following data and then graph your results. (You may use library functions)\n",
        "\n",
        "We have included some code to get you started so that you don't get stuck on something that isn't standardizing clustering.\n",
        "\n",
        "Prioritize calculating the clusters over graphing them. \n",
        "\n",
        "Scikit-Learn K-Means Documentation:\n",
        "\n",
        "<https://scikit-learn.org/stable/modules/generated/sklearn.cluster.KMeans.html>"
      ]
    },
    {
      "metadata": {
        "id": "miK5Aeg-JlzJ",
        "colab_type": "code",
        "outputId": "db621da6-fd22-4cce-f860-a871a6057574",
        "colab": {
          "base_uri": "https://localhost:8080/",
          "height": 206
        }
      },
      "cell_type": "code",
      "source": [
        "points = pd.read_csv('https://raw.githubusercontent.com/ryanleeallred/datasets/master/points.csv')\n",
        "points.head()"
      ],
      "execution_count": 40,
      "outputs": [
        {
          "output_type": "execute_result",
          "data": {
            "text/html": [
              "<div>\n",
              "<style scoped>\n",
              "    .dataframe tbody tr th:only-of-type {\n",
              "        vertical-align: middle;\n",
              "    }\n",
              "\n",
              "    .dataframe tbody tr th {\n",
              "        vertical-align: top;\n",
              "    }\n",
              "\n",
              "    .dataframe thead th {\n",
              "        text-align: right;\n",
              "    }\n",
              "</style>\n",
              "<table border=\"1\" class=\"dataframe\">\n",
              "  <thead>\n",
              "    <tr style=\"text-align: right;\">\n",
              "      <th></th>\n",
              "      <th>x</th>\n",
              "      <th>y</th>\n",
              "    </tr>\n",
              "  </thead>\n",
              "  <tbody>\n",
              "    <tr>\n",
              "      <th>0</th>\n",
              "      <td>-7.846803</td>\n",
              "      <td>-3.421277</td>\n",
              "    </tr>\n",
              "    <tr>\n",
              "      <th>1</th>\n",
              "      <td>-3.554323</td>\n",
              "      <td>-6.884729</td>\n",
              "    </tr>\n",
              "    <tr>\n",
              "      <th>2</th>\n",
              "      <td>-0.192822</td>\n",
              "      <td>-9.671030</td>\n",
              "    </tr>\n",
              "    <tr>\n",
              "      <th>3</th>\n",
              "      <td>-6.401456</td>\n",
              "      <td>-5.223972</td>\n",
              "    </tr>\n",
              "    <tr>\n",
              "      <th>4</th>\n",
              "      <td>-0.804026</td>\n",
              "      <td>-9.704457</td>\n",
              "    </tr>\n",
              "  </tbody>\n",
              "</table>\n",
              "</div>"
            ],
            "text/plain": [
              "          x         y\n",
              "0 -7.846803 -3.421277\n",
              "1 -3.554323 -6.884729\n",
              "2 -0.192822 -9.671030\n",
              "3 -6.401456 -5.223972\n",
              "4 -0.804026 -9.704457"
            ]
          },
          "metadata": {
            "tags": []
          },
          "execution_count": 40
        }
      ]
    },
    {
      "metadata": {
        "id": "mbgfl6xwALbB",
        "colab_type": "code",
        "colab": {}
      },
      "cell_type": "code",
      "source": [
        "std = scaler.fit_transform(points)\n",
        "sdf = pd.DataFrame(std, columns = points.columns)"
      ],
      "execution_count": 0,
      "outputs": []
    },
    {
      "metadata": {
        "id": "AKucbcXQ_gtJ",
        "colab_type": "code",
        "colab": {
          "base_uri": "https://localhost:8080/",
          "height": 376
        },
        "outputId": "8c4b4d1f-a9b4-41cd-f6ee-56fcc2bc88fb"
      },
      "cell_type": "code",
      "source": [
        "from sklearn.cluster import KMeans\n",
        "Sum_of_squared_distances = []\n",
        "K = range(1,15)\n",
        "for k in K:\n",
        "    km = KMeans(n_clusters=k)\n",
        "    km = km.fit(sdf)\n",
        "    Sum_of_squared_distances.append(km.inertia_)\n",
        "plt.plot(K, Sum_of_squared_distances, 'bx-')\n",
        "plt.xlabel('k')\n",
        "plt.ylabel('Sum_of_squared_distances')\n",
        "plt.title('Elbow Method For Optimal k')\n",
        "plt.show()"
      ],
      "execution_count": 43,
      "outputs": [
        {
          "output_type": "display_data",
          "data": {
            "image/png": "[encoded data removed]",
            "text/plain": [
              "<Figure size 576x396 with 1 Axes>"
            ]
          },
          "metadata": {
            "tags": []
          }
        }
      ]
    },
    {
      "metadata": {
        "id": "c-75eBUgBMzB",
        "colab_type": "code",
        "colab": {}
      },
      "cell_type": "code",
      "source": [
        "def get_centroids(df, column_header):\n",
        "  new_centroids = df.groupby(column_header).mean()\n",
        "  return new_centroids\n",
        "def plot_clusters(df, column_header, centroids):\n",
        "  colors = {0:'red', 1:'green', 2:'yellow', 3: 'blue'}\n",
        "  fig, ax = plt.subplots()\n",
        "  for i in range(len(centroids)):\n",
        "    ax.plot(centroids.iloc[i].x, centroids.iloc[i].y, \"ok\")\n",
        "  \n",
        "  grouped = df.groupby(column_header)\n",
        "  for key, group in grouped:\n",
        "      group.plot(ax=ax, kind='scatter', x='x', y='y', label=key, color=colors[key])\n",
        "  plt.show()"
      ],
      "execution_count": 0,
      "outputs": []
    },
    {
      "metadata": {
        "id": "G220ijaIA8dL",
        "colab_type": "code",
        "colab": {
          "base_uri": "https://localhost:8080/",
          "height": 378
        },
        "outputId": "696efcb1-d8db-49e9-c627-fbb17658c719"
      },
      "cell_type": "code",
      "source": [
        "kmeans = KMeans(n_clusters=4)\n",
        "kmeans.fit(sdf)\n",
        "sdf['clusters'] = pd.Series(kmeans.labels_).values\n",
        "centroids = get_centroids(sdf, 'clusters')\n",
        "print(len(centroids))\n",
        "plot_clusters(sdf, 'clusters', centroids)"
      ],
      "execution_count": 53,
      "outputs": [
        {
          "output_type": "stream",
          "text": [
            "4\n"
          ],
          "name": "stdout"
        },
        {
          "output_type": "display_data",
          "data": {
            "image/png": "[encoded data removed]",
            "text/plain": [
              "<Figure size 576x396 with 1 Axes>"
            ]
          },
          "metadata": {
            "tags": []
          }
        }
      ]
    }
  ]
}